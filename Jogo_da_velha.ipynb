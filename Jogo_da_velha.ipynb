{
  "nbformat": 4,
  "nbformat_minor": 0,
  "metadata": {
    "kernelspec": {
      "display_name": "Python 3",
      "language": "python",
      "name": "python3"
    },
    "language_info": {
      "codemirror_mode": {
        "name": "ipython",
        "version": 3
      },
      "file_extension": ".py",
      "mimetype": "text/x-python",
      "name": "python",
      "nbconvert_exporter": "python",
      "pygments_lexer": "ipython3",
      "version": "3.7.6"
    },
    "colab": {
      "name": "Jogo_da_velha.ipynb",
      "provenance": [],
      "collapsed_sections": [],
      "include_colab_link": true
    }
  },
  "cells": [
    {
      "cell_type": "markdown",
      "metadata": {
        "id": "view-in-github",
        "colab_type": "text"
      },
      "source": [
        "<a href=\"https://colab.research.google.com/github/felipeodorcyk/Tic_Tac_Toe_Python/blob/main/Jogo_da_velha.ipynb\" target=\"_parent\"><img src=\"https://colab.research.google.com/assets/colab-badge.svg\" alt=\"Open In Colab\"/></a>"
      ]
    },
    {
      "cell_type": "markdown",
      "metadata": {
        "id": "RcBe3TWCCUTo"
      },
      "source": [
        "#Jogo da Velha"
      ]
    },
    {
      "cell_type": "markdown",
      "metadata": {
        "id": "377L0qx2CaZg"
      },
      "source": [
        "###Função para mostrar tabuleiro de jogo"
      ]
    },
    {
      "cell_type": "code",
      "metadata": {
        "id": "BP1k0u_KBU0Y"
      },
      "source": [
        "from IPython.display import clear_output\n",
        "\n",
        "def display_board(board_list):\n",
        "    print('')\n",
        "    print('  ' + board_list[0] + '  |  ' + board_list[1] + '  |  ' + board_list[2] + '  ' )\n",
        "    print('_________________')\n",
        "    print('  ' + board_list[3] + '  |  ' + board_list[4] + '  |  ' + board_list[5] + '  ')\n",
        "    print('_________________')\n",
        "    print('  ' + board_list[6] + '  |  ' + board_list[7] + '  |  ' + board_list[8] + '  ')\n",
        "    print('')"
      ],
      "execution_count": 1,
      "outputs": []
    },
    {
      "cell_type": "markdown",
      "metadata": {
        "id": "FuH3DYPbCSZx"
      },
      "source": [
        "###Função de escolha de símbolo"
      ]
    },
    {
      "cell_type": "code",
      "metadata": {
        "id": "WwcS6sYaBU0Z"
      },
      "source": [
        "def player_input():\n",
        "    signals = ['X', 'O']\n",
        "    marker_j1 = input('Jogador 1 : Escolha seu símbolo (X ou O): ')\n",
        "    while marker_j1 not in signals:\n",
        "        print('Símbolo inválido, os símbolos permitidos são X ou O!')\n",
        "        marker_j1 = input('Jogador 1 : Escolha seu símbolo (X ou O): ')\n",
        "    return marker_j1"
      ],
      "execution_count": 2,
      "outputs": []
    },
    {
      "cell_type": "markdown",
      "metadata": {
        "id": "Ie1AbIiNDBuJ"
      },
      "source": [
        "###Função que insere o símbolo do jogador no tabuleiro na posição do tabuleiro\n",
        "\n"
      ]
    },
    {
      "cell_type": "code",
      "metadata": {
        "id": "5OaV2hhVBU0a"
      },
      "source": [
        "def place_marker(board, marker, position):\n",
        "        \n",
        "        if position == 1:\n",
        "            board[6] = marker\n",
        "        elif position == 2:\n",
        "            board[7] = marker\n",
        "        elif position == 3:\n",
        "            board[8] = marker\n",
        "        elif position == 4:\n",
        "            board[3] = marker\n",
        "        elif position == 5:\n",
        "            board[4] = marker\n",
        "        elif position == 6:\n",
        "            board[5] = marker\n",
        "        elif position == 7:\n",
        "            board[0] = marker\n",
        "        elif position == 8:\n",
        "            board[1] = marker\n",
        "        elif position == 9:\n",
        "            board[2] = marker\n",
        "        return board"
      ],
      "execution_count": 3,
      "outputs": []
    },
    {
      "cell_type": "markdown",
      "metadata": {
        "id": "DCZ3UZixBU0a"
      },
      "source": [
        "###Função que checa condições de vitória"
      ]
    },
    {
      "cell_type": "code",
      "metadata": {
        "id": "vyNzAksVBU0a"
      },
      "source": [
        "def win_check(board, mark):\n",
        "    if board[6] == board[7] == board[8] == mark:\n",
        "        return True\n",
        "    elif board[3] == board[4] == board[5] == mark:\n",
        "        return True\n",
        "    elif board[0] == board[1] == board[2] == mark:\n",
        "        return True\n",
        "    elif board[0] == board[3] == board[6] == mark:\n",
        "        return True\n",
        "    elif board[1] == board[4] == board[7] == mark:\n",
        "        return True\n",
        "    elif board[2] == board[5] == board[8] == mark:\n",
        "        return True\n",
        "    elif board[2] == board[4] == board[6] == mark:\n",
        "        return True\n",
        "    elif board[0] == board[4] == board[8] == mark:\n",
        "        return True\n",
        "    else:\n",
        "        return False"
      ],
      "execution_count": 4,
      "outputs": []
    },
    {
      "cell_type": "markdown",
      "metadata": {
        "id": "GlZ20CJmBU0b"
      },
      "source": [
        "###Função que decide aleatoriamente o jogador que vai iniciar"
      ]
    },
    {
      "cell_type": "code",
      "metadata": {
        "id": "66wJjMPSBU0b"
      },
      "source": [
        "import random\n",
        "\n",
        "def choose_first():\n",
        "    return str(random.randint(1,2))"
      ],
      "execution_count": 5,
      "outputs": []
    },
    {
      "cell_type": "markdown",
      "metadata": {
        "id": "rjoWGefxBU0b"
      },
      "source": [
        "###Função que checa se a posição escolhida está livre\n",
        "\n"
      ]
    },
    {
      "cell_type": "code",
      "metadata": {
        "id": "N769P2JjBU0c"
      },
      "source": [
        "def space_check(board, position):\n",
        "    #A posição está livre?\n",
        "    signals = ['X', 'O']\n",
        "    if position == 1 and board[6] not in signals:\n",
        "        return True\n",
        "    elif position == 2 and board[7] not in signals:\n",
        "        return True\n",
        "    elif position == 3 and board[8] not in signals:\n",
        "        return True\n",
        "    elif position == 4 and board[3] not in signals:\n",
        "        return True\n",
        "    elif position == 5 and board[4] not in signals:\n",
        "        return True\n",
        "    elif position == 6 and board[5] not in signals:\n",
        "        return True\n",
        "    elif position == 7 and board[0] not in signals:\n",
        "        return True\n",
        "    elif position == 8 and board[1] not in signals:\n",
        "        return True\n",
        "    elif position == 9 and board[2] not in signals:\n",
        "        return True\n",
        "    else:\n",
        "        return False"
      ],
      "execution_count": 6,
      "outputs": []
    },
    {
      "cell_type": "markdown",
      "metadata": {
        "id": "CAye0DRcBU0c"
      },
      "source": [
        "###Função que checa se ainda há espaço livre no tabuleiro."
      ]
    },
    {
      "cell_type": "code",
      "metadata": {
        "id": "jfkeTa2IBU0c"
      },
      "source": [
        "def full_board_check(board):\n",
        "    #Se verdade, acabou o espaço!\n",
        "    signals = ['X', 'O']\n",
        "    for item in board:\n",
        "        if item not in signals:\n",
        "            return False\n",
        "        else:\n",
        "            return True"
      ],
      "execution_count": 7,
      "outputs": []
    },
    {
      "cell_type": "markdown",
      "metadata": {
        "id": "NMBYq0nOBU0c"
      },
      "source": [
        "###Função que solicita uma jogada e checa se a posição está livre"
      ]
    },
    {
      "cell_type": "code",
      "metadata": {
        "id": "RRpnSwOXBU0d"
      },
      "source": [
        "def player_choice(board, player_turn):\n",
        "    move = input(player_turn + ': Escolha uma posição (1-9):')\n",
        "    while move not in ['1', '2', '3', '4', '5', '6', '7', '8', '9']:\n",
        "        print('Posição inválida, as posições permitidos são 1 a 9!')\n",
        "        move = input(player_turn + ': Escolha uma posição (1-9):')\n",
        "\n",
        "    while space_check(board, int(move)) == False:\n",
        "        print('Posição ocupada, escolha uma posição livre!')\n",
        "        move = input(player_turn + ': Escolha uma posição (1-9):')\n",
        "\n",
        "    return int(move)"
      ],
      "execution_count": 8,
      "outputs": []
    },
    {
      "cell_type": "markdown",
      "metadata": {
        "id": "5ClC8bHKBU0d"
      },
      "source": [
        "###Função que pergunta se deseja jogar novamente"
      ]
    },
    {
      "cell_type": "code",
      "metadata": {
        "id": "wNOkBMakBU0d"
      },
      "source": [
        "def replay():\n",
        "    valid_responses = ['S', 'N']\n",
        "    play_again = input('Quer jogar de novo? (S ou N) ')\n",
        "    while play_again not in valid_responses:\n",
        "        play_again = input('Não entendi, quer jogar de novo? (responda S para sim ou N para não) ')\n",
        "        \n",
        "    if play_again == 'S':\n",
        "        return True\n",
        "    elif play_again == 'N':\n",
        "        return False"
      ],
      "execution_count": 9,
      "outputs": []
    },
    {
      "cell_type": "markdown",
      "metadata": {
        "collapsed": true,
        "id": "JDgh8bhxBU0d"
      },
      "source": [
        "##Organização do Jogo"
      ]
    },
    {
      "cell_type": "code",
      "metadata": {
        "colab": {
          "base_uri": "https://localhost:8080/"
        },
        "id": "BHJBvCatBU0d",
        "outputId": "ea4dc55d-223d-4907-9cf2-c2f31b5d933d"
      },
      "source": [
        "print('Bem-vindo ao Jogo da Velha!')\n",
        "\n",
        "board_list = ['7','8','9','4','5','6','1','2','3']\n",
        "\n",
        "#Definie marcadores\n",
        "    #jogador 1\n",
        "\n",
        "player1_marker = player_input()\n",
        "round_count = 0\n",
        "\n",
        "    #jogador 2\n",
        "if player1_marker == 'X':\n",
        "    player2_marker = 'O'\n",
        "else: \n",
        "    player2_marker = 'X'\n",
        "\n",
        "display_board(board_list)\n",
        "    \n",
        "while round_count < 9 and win_check(board_list, 'X') == False and win_check(board_list, 'O') == False:\n",
        "    if round_count %2 == 0:\n",
        "        place_marker(board_list, player1_marker, player_choice(board_list, 'Jogador 1'))\n",
        "        round_count = round_count + 1\n",
        "    else:\n",
        "        place_marker(board_list, player2_marker, player_choice(board_list, 'Jogador 2'))\n",
        "        round_count = round_count + 1\n",
        "\n",
        "    display_board(board_list)\n",
        "    \n",
        "if win_check(board_list, player1_marker) == True:\n",
        "    print('Parabéns, Jogador 1 venceu!')\n",
        "elif win_check(board_list, player2_marker) == True:\n",
        "    print('Parabéns, Jogador 2 venceu!')\n",
        "else:\n",
        "    print('Empatou! Fim de jogo.')"
      ],
      "execution_count": 11,
      "outputs": [
        {
          "output_type": "stream",
          "name": "stdout",
          "text": [
            "Bem-vindo ao Jogo da Velha!\n",
            "Jogador 1 : Escolha seu símbolo (X ou O): \n",
            "Símbolo inválido, os símbolos permitidos são X ou O!\n",
            "Jogador 1 : Escolha seu símbolo (X ou O): X\n",
            "\n",
            "  7  |  8  |  9  \n",
            "_________________\n",
            "  4  |  5  |  6  \n",
            "_________________\n",
            "  1  |  2  |  3  \n",
            "\n",
            "Jogador 1: Escolha uma posição (1-9):5\n",
            "\n",
            "  7  |  8  |  9  \n",
            "_________________\n",
            "  4  |  X  |  6  \n",
            "_________________\n",
            "  1  |  2  |  3  \n",
            "\n",
            "Jogador 2: Escolha uma posição (1-9):1\n",
            "\n",
            "  7  |  8  |  9  \n",
            "_________________\n",
            "  4  |  X  |  6  \n",
            "_________________\n",
            "  O  |  2  |  3  \n",
            "\n",
            "Jogador 1: Escolha uma posição (1-9):4\n",
            "\n",
            "  7  |  8  |  9  \n",
            "_________________\n",
            "  X  |  X  |  6  \n",
            "_________________\n",
            "  O  |  2  |  3  \n",
            "\n",
            "Jogador 2: Escolha uma posição (1-9):2\n",
            "\n",
            "  7  |  8  |  9  \n",
            "_________________\n",
            "  X  |  X  |  6  \n",
            "_________________\n",
            "  O  |  O  |  3  \n",
            "\n",
            "Jogador 1: Escolha uma posição (1-9):6\n",
            "\n",
            "  7  |  8  |  9  \n",
            "_________________\n",
            "  X  |  X  |  X  \n",
            "_________________\n",
            "  O  |  O  |  3  \n",
            "\n",
            "Parabéns, Jogador 1 venceu!\n"
          ]
        }
      ]
    },
    {
      "cell_type": "code",
      "source": [
        ""
      ],
      "metadata": {
        "id": "2R0uP4NgYtcF"
      },
      "execution_count": 11,
      "outputs": []
    }
  ]
}